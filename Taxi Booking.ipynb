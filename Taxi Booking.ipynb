{
 "cells": [
  {
   "cell_type": "markdown",
   "id": "05187546-efd2-422b-a87c-66797f356852",
   "metadata": {},
   "source": [
    "# Problem Statement\n",
    "#### - In the fast paced taxi booking sector, making the most of revenue is essential for long-term success and driver happiness.\n",
    "#### - Our goal is to use data-driven to maximise revenue streams for taxi drivers in order to meet this need. Our research aims to determine whether payment methods have an impact on fare pricing by focusing on the relationship between payment type and fare amount.\n",
    "# Research Question\n",
    "### - Is there a relationship between total fare amount and payment types?\n",
    "### - Nudge customer towards payment methhods that generate higher revenue for drivers, without negatively impacting customer experience"
   ]
  },
  {
   "cell_type": "markdown",
   "id": "8f01a871-2b82-42ac-ac3c-af23fb2eae11",
   "metadata": {},
   "source": [
    "### Importing Libraries"
   ]
  },
  {
   "cell_type": "code",
   "execution_count": 1,
   "id": "97ee7829-f782-4a96-834e-eafcf98560af",
   "metadata": {},
   "outputs": [],
   "source": [
    "import pandas as pd\n",
    "import numpy as np\n",
    "import matplotlib.pyplot as plt\n",
    "import seaborn as sns\n",
    "import warnings\n",
    "warnings.filterwarnings('ignore')"
   ]
  },
  {
   "cell_type": "code",
   "execution_count": 2,
   "id": "4cd0ebae-8648-455d-8db5-93478e24eb65",
   "metadata": {
    "scrolled": true
   },
   "outputs": [
    {
     "data": {
      "text/html": [
       "<div>\n",
       "<style scoped>\n",
       "    .dataframe tbody tr th:only-of-type {\n",
       "        vertical-align: middle;\n",
       "    }\n",
       "\n",
       "    .dataframe tbody tr th {\n",
       "        vertical-align: top;\n",
       "    }\n",
       "\n",
       "    .dataframe thead th {\n",
       "        text-align: right;\n",
       "    }\n",
       "</style>\n",
       "<table border=\"1\" class=\"dataframe\">\n",
       "  <thead>\n",
       "    <tr style=\"text-align: right;\">\n",
       "      <th></th>\n",
       "      <th>VendorID</th>\n",
       "      <th>tpep_pickup_datetime</th>\n",
       "      <th>tpep_dropoff_datetime</th>\n",
       "      <th>passenger_count</th>\n",
       "      <th>trip_distance</th>\n",
       "      <th>RatecodeID</th>\n",
       "      <th>store_and_fwd_flag</th>\n",
       "      <th>PULocationID</th>\n",
       "      <th>DOLocationID</th>\n",
       "      <th>payment_type</th>\n",
       "      <th>fare_amount</th>\n",
       "      <th>extra</th>\n",
       "      <th>mta_tax</th>\n",
       "      <th>tip_amount</th>\n",
       "      <th>tolls_amount</th>\n",
       "      <th>improvement_surcharge</th>\n",
       "      <th>total_amount</th>\n",
       "      <th>congestion_surcharge</th>\n",
       "    </tr>\n",
       "  </thead>\n",
       "  <tbody>\n",
       "    <tr>\n",
       "      <th>0</th>\n",
       "      <td>1.0</td>\n",
       "      <td>2020-01-01 00:28:15</td>\n",
       "      <td>2020-01-01 00:33:03</td>\n",
       "      <td>1.0</td>\n",
       "      <td>1.2</td>\n",
       "      <td>1.0</td>\n",
       "      <td>N</td>\n",
       "      <td>238</td>\n",
       "      <td>239</td>\n",
       "      <td>1.0</td>\n",
       "      <td>6.0</td>\n",
       "      <td>3.0</td>\n",
       "      <td>0.5</td>\n",
       "      <td>1.47</td>\n",
       "      <td>0.0</td>\n",
       "      <td>0.3</td>\n",
       "      <td>11.27</td>\n",
       "      <td>2.5</td>\n",
       "    </tr>\n",
       "    <tr>\n",
       "      <th>1</th>\n",
       "      <td>1.0</td>\n",
       "      <td>2020-01-01 00:35:39</td>\n",
       "      <td>2020-01-01 00:43:04</td>\n",
       "      <td>1.0</td>\n",
       "      <td>1.2</td>\n",
       "      <td>1.0</td>\n",
       "      <td>N</td>\n",
       "      <td>239</td>\n",
       "      <td>238</td>\n",
       "      <td>1.0</td>\n",
       "      <td>7.0</td>\n",
       "      <td>3.0</td>\n",
       "      <td>0.5</td>\n",
       "      <td>1.50</td>\n",
       "      <td>0.0</td>\n",
       "      <td>0.3</td>\n",
       "      <td>12.30</td>\n",
       "      <td>2.5</td>\n",
       "    </tr>\n",
       "    <tr>\n",
       "      <th>2</th>\n",
       "      <td>1.0</td>\n",
       "      <td>2020-01-01 00:47:41</td>\n",
       "      <td>2020-01-01 00:53:52</td>\n",
       "      <td>1.0</td>\n",
       "      <td>0.6</td>\n",
       "      <td>1.0</td>\n",
       "      <td>N</td>\n",
       "      <td>238</td>\n",
       "      <td>238</td>\n",
       "      <td>1.0</td>\n",
       "      <td>6.0</td>\n",
       "      <td>3.0</td>\n",
       "      <td>0.5</td>\n",
       "      <td>1.00</td>\n",
       "      <td>0.0</td>\n",
       "      <td>0.3</td>\n",
       "      <td>10.80</td>\n",
       "      <td>2.5</td>\n",
       "    </tr>\n",
       "    <tr>\n",
       "      <th>3</th>\n",
       "      <td>1.0</td>\n",
       "      <td>2020-01-01 00:55:23</td>\n",
       "      <td>2020-01-01 01:00:14</td>\n",
       "      <td>1.0</td>\n",
       "      <td>0.8</td>\n",
       "      <td>1.0</td>\n",
       "      <td>N</td>\n",
       "      <td>238</td>\n",
       "      <td>151</td>\n",
       "      <td>1.0</td>\n",
       "      <td>5.5</td>\n",
       "      <td>0.5</td>\n",
       "      <td>0.5</td>\n",
       "      <td>1.36</td>\n",
       "      <td>0.0</td>\n",
       "      <td>0.3</td>\n",
       "      <td>8.16</td>\n",
       "      <td>0.0</td>\n",
       "    </tr>\n",
       "    <tr>\n",
       "      <th>4</th>\n",
       "      <td>2.0</td>\n",
       "      <td>2020-01-01 00:01:58</td>\n",
       "      <td>2020-01-01 00:04:16</td>\n",
       "      <td>1.0</td>\n",
       "      <td>0.0</td>\n",
       "      <td>1.0</td>\n",
       "      <td>N</td>\n",
       "      <td>193</td>\n",
       "      <td>193</td>\n",
       "      <td>2.0</td>\n",
       "      <td>3.5</td>\n",
       "      <td>0.5</td>\n",
       "      <td>0.5</td>\n",
       "      <td>0.00</td>\n",
       "      <td>0.0</td>\n",
       "      <td>0.3</td>\n",
       "      <td>4.80</td>\n",
       "      <td>0.0</td>\n",
       "    </tr>\n",
       "  </tbody>\n",
       "</table>\n",
       "</div>"
      ],
      "text/plain": [
       "   VendorID tpep_pickup_datetime tpep_dropoff_datetime  passenger_count  \\\n",
       "0       1.0  2020-01-01 00:28:15   2020-01-01 00:33:03              1.0   \n",
       "1       1.0  2020-01-01 00:35:39   2020-01-01 00:43:04              1.0   \n",
       "2       1.0  2020-01-01 00:47:41   2020-01-01 00:53:52              1.0   \n",
       "3       1.0  2020-01-01 00:55:23   2020-01-01 01:00:14              1.0   \n",
       "4       2.0  2020-01-01 00:01:58   2020-01-01 00:04:16              1.0   \n",
       "\n",
       "   trip_distance  RatecodeID store_and_fwd_flag  PULocationID  DOLocationID  \\\n",
       "0            1.2         1.0                  N           238           239   \n",
       "1            1.2         1.0                  N           239           238   \n",
       "2            0.6         1.0                  N           238           238   \n",
       "3            0.8         1.0                  N           238           151   \n",
       "4            0.0         1.0                  N           193           193   \n",
       "\n",
       "   payment_type  fare_amount  extra  mta_tax  tip_amount  tolls_amount  \\\n",
       "0           1.0          6.0    3.0      0.5        1.47           0.0   \n",
       "1           1.0          7.0    3.0      0.5        1.50           0.0   \n",
       "2           1.0          6.0    3.0      0.5        1.00           0.0   \n",
       "3           1.0          5.5    0.5      0.5        1.36           0.0   \n",
       "4           2.0          3.5    0.5      0.5        0.00           0.0   \n",
       "\n",
       "   improvement_surcharge  total_amount  congestion_surcharge  \n",
       "0                    0.3         11.27                   2.5  \n",
       "1                    0.3         12.30                   2.5  \n",
       "2                    0.3         10.80                   2.5  \n",
       "3                    0.3          8.16                   0.0  \n",
       "4                    0.3          4.80                   0.0  "
      ]
     },
     "execution_count": 2,
     "metadata": {},
     "output_type": "execute_result"
    }
   ],
   "source": [
    "df = pd.read_csv(r'C:\\Users\\Admin\\Desktop\\Python\\Data\\Yellow_TripdataProject\\yellow_tripdata_2020-01.csv') #Importing data set\n",
    "df.head() #shows top 5 rows"
   ]
  },
  {
   "cell_type": "code",
   "execution_count": 4,
   "id": "0a713793-1cbe-4af1-9178-f201926302a5",
   "metadata": {},
   "outputs": [
    {
     "data": {
      "text/plain": [
       "(6405008, 18)"
      ]
     },
     "execution_count": 4,
     "metadata": {},
     "output_type": "execute_result"
    }
   ],
   "source": [
    "df.shape #Shows shape of the data set"
   ]
  },
  {
   "cell_type": "code",
   "execution_count": 5,
   "id": "3fc8ad34-2370-40f1-92dd-9afa4bccd690",
   "metadata": {
    "scrolled": true
   },
   "outputs": [
    {
     "name": "stdout",
     "output_type": "stream",
     "text": [
      "<class 'pandas.core.frame.DataFrame'>\n",
      "RangeIndex: 6405008 entries, 0 to 6405007\n",
      "Data columns (total 18 columns):\n",
      " #   Column                 Dtype  \n",
      "---  ------                 -----  \n",
      " 0   VendorID               float64\n",
      " 1   tpep_pickup_datetime   object \n",
      " 2   tpep_dropoff_datetime  object \n",
      " 3   passenger_count        float64\n",
      " 4   trip_distance          float64\n",
      " 5   RatecodeID             float64\n",
      " 6   store_and_fwd_flag     object \n",
      " 7   PULocationID           int64  \n",
      " 8   DOLocationID           int64  \n",
      " 9   payment_type           float64\n",
      " 10  fare_amount            float64\n",
      " 11  extra                  float64\n",
      " 12  mta_tax                float64\n",
      " 13  tip_amount             float64\n",
      " 14  tolls_amount           float64\n",
      " 15  improvement_surcharge  float64\n",
      " 16  total_amount           float64\n",
      " 17  congestion_surcharge   float64\n",
      "dtypes: float64(13), int64(2), object(3)\n",
      "memory usage: 879.6+ MB\n"
     ]
    }
   ],
   "source": [
    "df.info() #Provide information about data set"
   ]
  },
  {
   "cell_type": "markdown",
   "id": "5507239d-cbe3-4075-97d1-a95933147e31",
   "metadata": {},
   "source": [
    "\"tpep_pickup_datetime\" & \"tpep_dropoff_datetime\" data type is objects, they should be datetime data type "
   ]
  },
  {
   "cell_type": "code",
   "execution_count": 6,
   "id": "c6d8c1f2-bd3a-4b67-bd62-9872266acba5",
   "metadata": {},
   "outputs": [],
   "source": [
    "df['tpep_pickup_datetime'] = pd.to_datetime(df['tpep_pickup_datetime']) #Converting data type object to datetime\n",
    "df['tpep_dropoff_datetime'] = pd.to_datetime(df['tpep_dropoff_datetime']) #Converting data type object to datetime"
   ]
  },
  {
   "cell_type": "code",
   "execution_count": 7,
   "id": "7fb0f2c4-6b78-42e5-b2c5-35c0d2f0d59f",
   "metadata": {
    "scrolled": true
   },
   "outputs": [
    {
     "data": {
      "text/plain": [
       "VendorID                        float64\n",
       "tpep_pickup_datetime     datetime64[ns]\n",
       "tpep_dropoff_datetime    datetime64[ns]\n",
       "passenger_count                 float64\n",
       "trip_distance                   float64\n",
       "RatecodeID                      float64\n",
       "store_and_fwd_flag               object\n",
       "PULocationID                      int64\n",
       "DOLocationID                      int64\n",
       "payment_type                    float64\n",
       "fare_amount                     float64\n",
       "extra                           float64\n",
       "mta_tax                         float64\n",
       "tip_amount                      float64\n",
       "tolls_amount                    float64\n",
       "improvement_surcharge           float64\n",
       "total_amount                    float64\n",
       "congestion_surcharge            float64\n",
       "dtype: object"
      ]
     },
     "execution_count": 7,
     "metadata": {},
     "output_type": "execute_result"
    }
   ],
   "source": [
    "df.dtypes #checking data types "
   ]
  },
  {
   "cell_type": "code",
   "execution_count": 8,
   "id": "47441fbb-686f-41dd-bc6f-c1e48502b1d8",
   "metadata": {},
   "outputs": [],
   "source": [
    "df['trip_durtation'] = df['tpep_dropoff_datetime']-df['tpep_pickup_datetime'] #Extracting durations\n",
    "df['trip_durtation'] = df['trip_durtation'].dt.total_seconds()/60 #converting seconds to minutes"
   ]
  },
  {
   "cell_type": "code",
   "execution_count": 9,
   "id": "8f155c0a-b8f7-4dc3-b59f-392ba8e3c113",
   "metadata": {},
   "outputs": [
    {
     "data": {
      "text/html": [
       "<div>\n",
       "<style scoped>\n",
       "    .dataframe tbody tr th:only-of-type {\n",
       "        vertical-align: middle;\n",
       "    }\n",
       "\n",
       "    .dataframe tbody tr th {\n",
       "        vertical-align: top;\n",
       "    }\n",
       "\n",
       "    .dataframe thead th {\n",
       "        text-align: right;\n",
       "    }\n",
       "</style>\n",
       "<table border=\"1\" class=\"dataframe\">\n",
       "  <thead>\n",
       "    <tr style=\"text-align: right;\">\n",
       "      <th></th>\n",
       "      <th>VendorID</th>\n",
       "      <th>tpep_pickup_datetime</th>\n",
       "      <th>tpep_dropoff_datetime</th>\n",
       "      <th>passenger_count</th>\n",
       "      <th>trip_distance</th>\n",
       "      <th>RatecodeID</th>\n",
       "      <th>store_and_fwd_flag</th>\n",
       "      <th>PULocationID</th>\n",
       "      <th>DOLocationID</th>\n",
       "      <th>payment_type</th>\n",
       "      <th>fare_amount</th>\n",
       "      <th>extra</th>\n",
       "      <th>mta_tax</th>\n",
       "      <th>tip_amount</th>\n",
       "      <th>tolls_amount</th>\n",
       "      <th>improvement_surcharge</th>\n",
       "      <th>total_amount</th>\n",
       "      <th>congestion_surcharge</th>\n",
       "      <th>trip_durtation</th>\n",
       "    </tr>\n",
       "  </thead>\n",
       "  <tbody>\n",
       "    <tr>\n",
       "      <th>0</th>\n",
       "      <td>1.0</td>\n",
       "      <td>2020-01-01 00:28:15</td>\n",
       "      <td>2020-01-01 00:33:03</td>\n",
       "      <td>1.0</td>\n",
       "      <td>1.2</td>\n",
       "      <td>1.0</td>\n",
       "      <td>N</td>\n",
       "      <td>238</td>\n",
       "      <td>239</td>\n",
       "      <td>1.0</td>\n",
       "      <td>6.0</td>\n",
       "      <td>3.0</td>\n",
       "      <td>0.5</td>\n",
       "      <td>1.47</td>\n",
       "      <td>0.0</td>\n",
       "      <td>0.3</td>\n",
       "      <td>11.27</td>\n",
       "      <td>2.5</td>\n",
       "      <td>4.800000</td>\n",
       "    </tr>\n",
       "    <tr>\n",
       "      <th>1</th>\n",
       "      <td>1.0</td>\n",
       "      <td>2020-01-01 00:35:39</td>\n",
       "      <td>2020-01-01 00:43:04</td>\n",
       "      <td>1.0</td>\n",
       "      <td>1.2</td>\n",
       "      <td>1.0</td>\n",
       "      <td>N</td>\n",
       "      <td>239</td>\n",
       "      <td>238</td>\n",
       "      <td>1.0</td>\n",
       "      <td>7.0</td>\n",
       "      <td>3.0</td>\n",
       "      <td>0.5</td>\n",
       "      <td>1.50</td>\n",
       "      <td>0.0</td>\n",
       "      <td>0.3</td>\n",
       "      <td>12.30</td>\n",
       "      <td>2.5</td>\n",
       "      <td>7.416667</td>\n",
       "    </tr>\n",
       "    <tr>\n",
       "      <th>2</th>\n",
       "      <td>1.0</td>\n",
       "      <td>2020-01-01 00:47:41</td>\n",
       "      <td>2020-01-01 00:53:52</td>\n",
       "      <td>1.0</td>\n",
       "      <td>0.6</td>\n",
       "      <td>1.0</td>\n",
       "      <td>N</td>\n",
       "      <td>238</td>\n",
       "      <td>238</td>\n",
       "      <td>1.0</td>\n",
       "      <td>6.0</td>\n",
       "      <td>3.0</td>\n",
       "      <td>0.5</td>\n",
       "      <td>1.00</td>\n",
       "      <td>0.0</td>\n",
       "      <td>0.3</td>\n",
       "      <td>10.80</td>\n",
       "      <td>2.5</td>\n",
       "      <td>6.183333</td>\n",
       "    </tr>\n",
       "    <tr>\n",
       "      <th>3</th>\n",
       "      <td>1.0</td>\n",
       "      <td>2020-01-01 00:55:23</td>\n",
       "      <td>2020-01-01 01:00:14</td>\n",
       "      <td>1.0</td>\n",
       "      <td>0.8</td>\n",
       "      <td>1.0</td>\n",
       "      <td>N</td>\n",
       "      <td>238</td>\n",
       "      <td>151</td>\n",
       "      <td>1.0</td>\n",
       "      <td>5.5</td>\n",
       "      <td>0.5</td>\n",
       "      <td>0.5</td>\n",
       "      <td>1.36</td>\n",
       "      <td>0.0</td>\n",
       "      <td>0.3</td>\n",
       "      <td>8.16</td>\n",
       "      <td>0.0</td>\n",
       "      <td>4.850000</td>\n",
       "    </tr>\n",
       "    <tr>\n",
       "      <th>4</th>\n",
       "      <td>2.0</td>\n",
       "      <td>2020-01-01 00:01:58</td>\n",
       "      <td>2020-01-01 00:04:16</td>\n",
       "      <td>1.0</td>\n",
       "      <td>0.0</td>\n",
       "      <td>1.0</td>\n",
       "      <td>N</td>\n",
       "      <td>193</td>\n",
       "      <td>193</td>\n",
       "      <td>2.0</td>\n",
       "      <td>3.5</td>\n",
       "      <td>0.5</td>\n",
       "      <td>0.5</td>\n",
       "      <td>0.00</td>\n",
       "      <td>0.0</td>\n",
       "      <td>0.3</td>\n",
       "      <td>4.80</td>\n",
       "      <td>0.0</td>\n",
       "      <td>2.300000</td>\n",
       "    </tr>\n",
       "  </tbody>\n",
       "</table>\n",
       "</div>"
      ],
      "text/plain": [
       "   VendorID tpep_pickup_datetime tpep_dropoff_datetime  passenger_count  \\\n",
       "0       1.0  2020-01-01 00:28:15   2020-01-01 00:33:03              1.0   \n",
       "1       1.0  2020-01-01 00:35:39   2020-01-01 00:43:04              1.0   \n",
       "2       1.0  2020-01-01 00:47:41   2020-01-01 00:53:52              1.0   \n",
       "3       1.0  2020-01-01 00:55:23   2020-01-01 01:00:14              1.0   \n",
       "4       2.0  2020-01-01 00:01:58   2020-01-01 00:04:16              1.0   \n",
       "\n",
       "   trip_distance  RatecodeID store_and_fwd_flag  PULocationID  DOLocationID  \\\n",
       "0            1.2         1.0                  N           238           239   \n",
       "1            1.2         1.0                  N           239           238   \n",
       "2            0.6         1.0                  N           238           238   \n",
       "3            0.8         1.0                  N           238           151   \n",
       "4            0.0         1.0                  N           193           193   \n",
       "\n",
       "   payment_type  fare_amount  extra  mta_tax  tip_amount  tolls_amount  \\\n",
       "0           1.0          6.0    3.0      0.5        1.47           0.0   \n",
       "1           1.0          7.0    3.0      0.5        1.50           0.0   \n",
       "2           1.0          6.0    3.0      0.5        1.00           0.0   \n",
       "3           1.0          5.5    0.5      0.5        1.36           0.0   \n",
       "4           2.0          3.5    0.5      0.5        0.00           0.0   \n",
       "\n",
       "   improvement_surcharge  total_amount  congestion_surcharge  trip_durtation  \n",
       "0                    0.3         11.27                   2.5        4.800000  \n",
       "1                    0.3         12.30                   2.5        7.416667  \n",
       "2                    0.3         10.80                   2.5        6.183333  \n",
       "3                    0.3          8.16                   0.0        4.850000  \n",
       "4                    0.3          4.80                   0.0        2.300000  "
      ]
     },
     "execution_count": 9,
     "metadata": {},
     "output_type": "execute_result"
    }
   ],
   "source": [
    "df.head() #shows top 5 rows"
   ]
  },
  {
   "cell_type": "markdown",
   "id": "eba4025e-965e-4988-b071-918701fd37f8",
   "metadata": {},
   "source": [
    "### Selecting data as per prolem statement"
   ]
  },
  {
   "cell_type": "code",
   "execution_count": 10,
   "id": "73e266f3-1519-4587-834d-4e0248526a03",
   "metadata": {},
   "outputs": [],
   "source": [
    "df = df[['passenger_count','payment_type','fare_amount','trip_distance','trip_durtation']] "
   ]
  },
  {
   "cell_type": "code",
   "execution_count": 11,
   "id": "84e84ef0-4461-47f3-8beb-4c267e36b979",
   "metadata": {},
   "outputs": [
    {
     "data": {
      "text/html": [
       "<div>\n",
       "<style scoped>\n",
       "    .dataframe tbody tr th:only-of-type {\n",
       "        vertical-align: middle;\n",
       "    }\n",
       "\n",
       "    .dataframe tbody tr th {\n",
       "        vertical-align: top;\n",
       "    }\n",
       "\n",
       "    .dataframe thead th {\n",
       "        text-align: right;\n",
       "    }\n",
       "</style>\n",
       "<table border=\"1\" class=\"dataframe\">\n",
       "  <thead>\n",
       "    <tr style=\"text-align: right;\">\n",
       "      <th></th>\n",
       "      <th>passenger_count</th>\n",
       "      <th>payment_type</th>\n",
       "      <th>fare_amount</th>\n",
       "      <th>trip_distance</th>\n",
       "      <th>trip_durtation</th>\n",
       "    </tr>\n",
       "  </thead>\n",
       "  <tbody>\n",
       "    <tr>\n",
       "      <th>4746092</th>\n",
       "      <td>2.0</td>\n",
       "      <td>1.0</td>\n",
       "      <td>5.5</td>\n",
       "      <td>0.9</td>\n",
       "      <td>5.066667</td>\n",
       "    </tr>\n",
       "  </tbody>\n",
       "</table>\n",
       "</div>"
      ],
      "text/plain": [
       "         passenger_count  payment_type  fare_amount  trip_distance  \\\n",
       "4746092              2.0           1.0          5.5            0.9   \n",
       "\n",
       "         trip_durtation  \n",
       "4746092        5.066667  "
      ]
     },
     "execution_count": 11,
     "metadata": {},
     "output_type": "execute_result"
    }
   ],
   "source": [
    "df.sample() #shows one random row as a sample"
   ]
  },
  {
   "cell_type": "code",
   "execution_count": 12,
   "id": "5000522b-8277-41b1-b342-01cdc220134e",
   "metadata": {},
   "outputs": [
    {
     "data": {
      "text/plain": [
       "passenger_count    65441\n",
       "payment_type       65441\n",
       "fare_amount            0\n",
       "trip_distance          0\n",
       "trip_durtation         0\n",
       "dtype: int64"
      ]
     },
     "execution_count": 12,
     "metadata": {},
     "output_type": "execute_result"
    }
   ],
   "source": [
    "df.isnull().sum() #Checking null values"
   ]
  },
  {
   "cell_type": "code",
   "execution_count": 13,
   "id": "37942096-99fc-446e-88b7-2b45735c24f9",
   "metadata": {},
   "outputs": [
    {
     "data": {
      "text/plain": [
       "6405008"
      ]
     },
     "execution_count": 13,
     "metadata": {},
     "output_type": "execute_result"
    }
   ],
   "source": [
    "len(df) #shows length of the data"
   ]
  },
  {
   "cell_type": "code",
   "execution_count": 14,
   "id": "015c77f9-7b2f-41f7-bdce-e7f26e9674d6",
   "metadata": {},
   "outputs": [],
   "source": [
    "def per(x): #Creating the fucntion to check percentage of values which are empty\n",
    "    return (x/len(df))*100"
   ]
  },
  {
   "cell_type": "code",
   "execution_count": 15,
   "id": "0ce0d8f6-2db8-4c2f-b1fe-8aaa6aea0ecf",
   "metadata": {
    "scrolled": true
   },
   "outputs": [
    {
     "name": "stdout",
     "output_type": "stream",
     "text": [
      "Percentage of passenger_count:- 1.021716132126611\n",
      "\n",
      "Percentage of payment_type:- 1.021716132126611\n"
     ]
    }
   ],
   "source": [
    "passenger_count = 65441\n",
    "payment_type = 65441\n",
    "print('Percentage of passenger_count:-',per(passenger_count))\n",
    "print()\n",
    "print('Percentage of payment_type:-',per(payment_type))"
   ]
  },
  {
   "cell_type": "markdown",
   "id": "28b5b9d3-bead-44f9-a858-04d0c1d3cb40",
   "metadata": {},
   "source": [
    "### 1.02% null values, which is very less, they can either be dorpped or filled with mean or median "
   ]
  },
  {
   "cell_type": "code",
   "execution_count": 16,
   "id": "1ab38ac6-d4c0-4d8e-b705-1e5b74179066",
   "metadata": {},
   "outputs": [
    {
     "data": {
      "text/plain": [
       "passenger_count    0\n",
       "payment_type       0\n",
       "fare_amount        0\n",
       "trip_distance      0\n",
       "trip_durtation     0\n",
       "dtype: int64"
      ]
     },
     "execution_count": 16,
     "metadata": {},
     "output_type": "execute_result"
    }
   ],
   "source": [
    "df.dropna(inplace=True) #Droping null values\n",
    "df.isnull().sum()"
   ]
  },
  {
   "cell_type": "code",
   "execution_count": 17,
   "id": "eed0f84c-caae-4f29-8d5f-272c212e5696",
   "metadata": {
    "scrolled": true
   },
   "outputs": [
    {
     "data": {
      "text/html": [
       "<div>\n",
       "<style scoped>\n",
       "    .dataframe tbody tr th:only-of-type {\n",
       "        vertical-align: middle;\n",
       "    }\n",
       "\n",
       "    .dataframe tbody tr th {\n",
       "        vertical-align: top;\n",
       "    }\n",
       "\n",
       "    .dataframe thead th {\n",
       "        text-align: right;\n",
       "    }\n",
       "</style>\n",
       "<table border=\"1\" class=\"dataframe\">\n",
       "  <thead>\n",
       "    <tr style=\"text-align: right;\">\n",
       "      <th></th>\n",
       "      <th>passenger_count</th>\n",
       "      <th>payment_type</th>\n",
       "      <th>fare_amount</th>\n",
       "      <th>trip_distance</th>\n",
       "      <th>trip_durtation</th>\n",
       "    </tr>\n",
       "  </thead>\n",
       "  <tbody>\n",
       "    <tr>\n",
       "      <th>3067164</th>\n",
       "      <td>1.0</td>\n",
       "      <td>1.0</td>\n",
       "      <td>11.0</td>\n",
       "      <td>1.50</td>\n",
       "      <td>16.000000</td>\n",
       "    </tr>\n",
       "    <tr>\n",
       "      <th>898803</th>\n",
       "      <td>6.0</td>\n",
       "      <td>1.0</td>\n",
       "      <td>5.5</td>\n",
       "      <td>0.75</td>\n",
       "      <td>5.066667</td>\n",
       "    </tr>\n",
       "    <tr>\n",
       "      <th>4477595</th>\n",
       "      <td>1.0</td>\n",
       "      <td>1.0</td>\n",
       "      <td>13.5</td>\n",
       "      <td>2.10</td>\n",
       "      <td>19.483333</td>\n",
       "    </tr>\n",
       "  </tbody>\n",
       "</table>\n",
       "</div>"
      ],
      "text/plain": [
       "         passenger_count  payment_type  fare_amount  trip_distance  \\\n",
       "3067164              1.0           1.0         11.0           1.50   \n",
       "898803               6.0           1.0          5.5           0.75   \n",
       "4477595              1.0           1.0         13.5           2.10   \n",
       "\n",
       "         trip_durtation  \n",
       "3067164       16.000000  \n",
       "898803         5.066667  \n",
       "4477595       19.483333  "
      ]
     },
     "execution_count": 17,
     "metadata": {},
     "output_type": "execute_result"
    }
   ],
   "source": [
    "df.sample(3)"
   ]
  },
  {
   "cell_type": "code",
   "execution_count": 18,
   "id": "528a58ca-ac4f-4170-ba49-568b549c35a6",
   "metadata": {},
   "outputs": [
    {
     "data": {
      "text/plain": [
       "passenger_count    float64\n",
       "payment_type       float64\n",
       "fare_amount        float64\n",
       "trip_distance      float64\n",
       "trip_durtation     float64\n",
       "dtype: object"
      ]
     },
     "execution_count": 18,
     "metadata": {},
     "output_type": "execute_result"
    }
   ],
   "source": [
    "df.dtypes"
   ]
  },
  {
   "cell_type": "code",
   "execution_count": 19,
   "id": "ea697d58-aa5b-4c7b-ab49-3dbe3847185b",
   "metadata": {},
   "outputs": [],
   "source": [
    "df['passenger_count'] = df['passenger_count'].astype(int) #Convering float to integer\n",
    "df['payment_type'] = df['payment_type'].astype(int) #Convering float to integer"
   ]
  },
  {
   "cell_type": "code",
   "execution_count": 20,
   "id": "cf13ade0-f9bd-4c62-9c9e-e54736d96cfb",
   "metadata": {},
   "outputs": [
    {
     "data": {
      "text/html": [
       "<div>\n",
       "<style scoped>\n",
       "    .dataframe tbody tr th:only-of-type {\n",
       "        vertical-align: middle;\n",
       "    }\n",
       "\n",
       "    .dataframe tbody tr th {\n",
       "        vertical-align: top;\n",
       "    }\n",
       "\n",
       "    .dataframe thead th {\n",
       "        text-align: right;\n",
       "    }\n",
       "</style>\n",
       "<table border=\"1\" class=\"dataframe\">\n",
       "  <thead>\n",
       "    <tr style=\"text-align: right;\">\n",
       "      <th></th>\n",
       "      <th>passenger_count</th>\n",
       "      <th>payment_type</th>\n",
       "      <th>fare_amount</th>\n",
       "      <th>trip_distance</th>\n",
       "      <th>trip_durtation</th>\n",
       "    </tr>\n",
       "  </thead>\n",
       "  <tbody>\n",
       "    <tr>\n",
       "      <th>0</th>\n",
       "      <td>1</td>\n",
       "      <td>1</td>\n",
       "      <td>6.0</td>\n",
       "      <td>1.2</td>\n",
       "      <td>4.800000</td>\n",
       "    </tr>\n",
       "    <tr>\n",
       "      <th>1</th>\n",
       "      <td>1</td>\n",
       "      <td>1</td>\n",
       "      <td>7.0</td>\n",
       "      <td>1.2</td>\n",
       "      <td>7.416667</td>\n",
       "    </tr>\n",
       "    <tr>\n",
       "      <th>2</th>\n",
       "      <td>1</td>\n",
       "      <td>1</td>\n",
       "      <td>6.0</td>\n",
       "      <td>0.6</td>\n",
       "      <td>6.183333</td>\n",
       "    </tr>\n",
       "    <tr>\n",
       "      <th>3</th>\n",
       "      <td>1</td>\n",
       "      <td>1</td>\n",
       "      <td>5.5</td>\n",
       "      <td>0.8</td>\n",
       "      <td>4.850000</td>\n",
       "    </tr>\n",
       "    <tr>\n",
       "      <th>4</th>\n",
       "      <td>1</td>\n",
       "      <td>2</td>\n",
       "      <td>3.5</td>\n",
       "      <td>0.0</td>\n",
       "      <td>2.300000</td>\n",
       "    </tr>\n",
       "  </tbody>\n",
       "</table>\n",
       "</div>"
      ],
      "text/plain": [
       "   passenger_count  payment_type  fare_amount  trip_distance  trip_durtation\n",
       "0                1             1          6.0            1.2        4.800000\n",
       "1                1             1          7.0            1.2        7.416667\n",
       "2                1             1          6.0            0.6        6.183333\n",
       "3                1             1          5.5            0.8        4.850000\n",
       "4                1             2          3.5            0.0        2.300000"
      ]
     },
     "execution_count": 20,
     "metadata": {},
     "output_type": "execute_result"
    }
   ],
   "source": [
    "df.head() #shows top 5 rows"
   ]
  },
  {
   "cell_type": "code",
   "execution_count": 21,
   "id": "5f82718e-9dd8-4cc1-872e-7b40183e6cee",
   "metadata": {},
   "outputs": [
    {
     "data": {
      "text/plain": [
       "3331706"
      ]
     },
     "execution_count": 21,
     "metadata": {},
     "output_type": "execute_result"
    }
   ],
   "source": [
    "df.duplicated().sum() #Checking duplicates values"
   ]
  },
  {
   "cell_type": "code",
   "execution_count": 22,
   "id": "c8458aaa-2371-471a-8894-b2b6563b5466",
   "metadata": {},
   "outputs": [],
   "source": [
    "df.drop_duplicates(inplace=True) #Dropping duplicates values"
   ]
  },
  {
   "cell_type": "code",
   "execution_count": 23,
   "id": "b602c151-0dad-4c35-944c-f904a635e3ec",
   "metadata": {},
   "outputs": [
    {
     "data": {
      "text/plain": [
       "0"
      ]
     },
     "execution_count": 23,
     "metadata": {},
     "output_type": "execute_result"
    }
   ],
   "source": [
    "df.duplicated().sum()#Checking duplicates values"
   ]
  },
  {
   "cell_type": "code",
   "execution_count": 24,
   "id": "cc3586b1-a1b8-49bd-845c-e31bd2e4722a",
   "metadata": {},
   "outputs": [
    {
     "data": {
      "text/plain": [
       "(3007861, 5)"
      ]
     },
     "execution_count": 24,
     "metadata": {},
     "output_type": "execute_result"
    }
   ],
   "source": [
    "df.shape #Show shape of the data set"
   ]
  },
  {
   "cell_type": "code",
   "execution_count": 25,
   "id": "1f157702-5207-451a-84b6-cba21802309c",
   "metadata": {},
   "outputs": [
    {
     "data": {
      "text/plain": [
       "passenger_count\n",
       "1    0.581981\n",
       "2    0.190350\n",
       "3    0.066360\n",
       "5    0.062937\n",
       "6    0.039272\n",
       "4    0.036046\n",
       "0    0.023033\n",
       "7    0.000009\n",
       "9    0.000006\n",
       "8    0.000006\n",
       "Name: proportion, dtype: float64"
      ]
     },
     "execution_count": 25,
     "metadata": {},
     "output_type": "execute_result"
    }
   ],
   "source": [
    "df['passenger_count'].value_counts(normalize=True) #shows values by its perentage"
   ]
  },
  {
   "cell_type": "code",
   "execution_count": 26,
   "id": "e87015b9-0d6b-4b99-9667-3c975bfc439e",
   "metadata": {},
   "outputs": [
    {
     "data": {
      "text/plain": [
       "payment_type\n",
       "1    6.782670e-01\n",
       "2    3.075731e-01\n",
       "3    8.721480e-03\n",
       "4    5.438084e-03\n",
       "5    3.324622e-07\n",
       "Name: proportion, dtype: float64"
      ]
     },
     "execution_count": 26,
     "metadata": {},
     "output_type": "execute_result"
    }
   ],
   "source": [
    "df['payment_type'].value_counts(normalize=True) #shows values by its perentage\n",
    "#1- Credit Card\n",
    "#2- Cash\n",
    "#3- No Charge\n",
    "#4- Dispute\n",
    "#5- Unkown\n",
    "#6- Voided Trip"
   ]
  },
  {
   "cell_type": "code",
   "execution_count": 27,
   "id": "d3c993b9-3ca9-4a3f-a9cc-0082998c15a2",
   "metadata": {},
   "outputs": [
    {
     "data": {
      "text/html": [
       "<div>\n",
       "<style scoped>\n",
       "    .dataframe tbody tr th:only-of-type {\n",
       "        vertical-align: middle;\n",
       "    }\n",
       "\n",
       "    .dataframe tbody tr th {\n",
       "        vertical-align: top;\n",
       "    }\n",
       "\n",
       "    .dataframe thead th {\n",
       "        text-align: right;\n",
       "    }\n",
       "</style>\n",
       "<table border=\"1\" class=\"dataframe\">\n",
       "  <thead>\n",
       "    <tr style=\"text-align: right;\">\n",
       "      <th></th>\n",
       "      <th>passenger_count</th>\n",
       "      <th>payment_type</th>\n",
       "      <th>fare_amount</th>\n",
       "      <th>trip_distance</th>\n",
       "      <th>trip_durtation</th>\n",
       "    </tr>\n",
       "  </thead>\n",
       "  <tbody>\n",
       "    <tr>\n",
       "      <th>0</th>\n",
       "      <td>1</td>\n",
       "      <td>1</td>\n",
       "      <td>6.0</td>\n",
       "      <td>1.20</td>\n",
       "      <td>4.800000</td>\n",
       "    </tr>\n",
       "    <tr>\n",
       "      <th>1</th>\n",
       "      <td>1</td>\n",
       "      <td>1</td>\n",
       "      <td>7.0</td>\n",
       "      <td>1.20</td>\n",
       "      <td>7.416667</td>\n",
       "    </tr>\n",
       "    <tr>\n",
       "      <th>2</th>\n",
       "      <td>1</td>\n",
       "      <td>1</td>\n",
       "      <td>6.0</td>\n",
       "      <td>0.60</td>\n",
       "      <td>6.183333</td>\n",
       "    </tr>\n",
       "    <tr>\n",
       "      <th>3</th>\n",
       "      <td>1</td>\n",
       "      <td>1</td>\n",
       "      <td>5.5</td>\n",
       "      <td>0.80</td>\n",
       "      <td>4.850000</td>\n",
       "    </tr>\n",
       "    <tr>\n",
       "      <th>4</th>\n",
       "      <td>1</td>\n",
       "      <td>2</td>\n",
       "      <td>3.5</td>\n",
       "      <td>0.00</td>\n",
       "      <td>2.300000</td>\n",
       "    </tr>\n",
       "    <tr>\n",
       "      <th>...</th>\n",
       "      <td>...</td>\n",
       "      <td>...</td>\n",
       "      <td>...</td>\n",
       "      <td>...</td>\n",
       "      <td>...</td>\n",
       "    </tr>\n",
       "    <tr>\n",
       "      <th>6339555</th>\n",
       "      <td>3</td>\n",
       "      <td>1</td>\n",
       "      <td>10.0</td>\n",
       "      <td>2.09</td>\n",
       "      <td>14.800000</td>\n",
       "    </tr>\n",
       "    <tr>\n",
       "      <th>6339561</th>\n",
       "      <td>1</td>\n",
       "      <td>1</td>\n",
       "      <td>17.5</td>\n",
       "      <td>4.11</td>\n",
       "      <td>21.500000</td>\n",
       "    </tr>\n",
       "    <tr>\n",
       "      <th>6339563</th>\n",
       "      <td>1</td>\n",
       "      <td>1</td>\n",
       "      <td>13.0</td>\n",
       "      <td>2.13</td>\n",
       "      <td>19.000000</td>\n",
       "    </tr>\n",
       "    <tr>\n",
       "      <th>6339564</th>\n",
       "      <td>1</td>\n",
       "      <td>1</td>\n",
       "      <td>12.5</td>\n",
       "      <td>2.55</td>\n",
       "      <td>16.283333</td>\n",
       "    </tr>\n",
       "    <tr>\n",
       "      <th>6339566</th>\n",
       "      <td>1</td>\n",
       "      <td>1</td>\n",
       "      <td>0.0</td>\n",
       "      <td>0.00</td>\n",
       "      <td>1.066667</td>\n",
       "    </tr>\n",
       "  </tbody>\n",
       "</table>\n",
       "<p>2780283 rows × 5 columns</p>\n",
       "</div>"
      ],
      "text/plain": [
       "         passenger_count  payment_type  fare_amount  trip_distance  \\\n",
       "0                      1             1          6.0           1.20   \n",
       "1                      1             1          7.0           1.20   \n",
       "2                      1             1          6.0           0.60   \n",
       "3                      1             1          5.5           0.80   \n",
       "4                      1             2          3.5           0.00   \n",
       "...                  ...           ...          ...            ...   \n",
       "6339555                3             1         10.0           2.09   \n",
       "6339561                1             1         17.5           4.11   \n",
       "6339563                1             1         13.0           2.13   \n",
       "6339564                1             1         12.5           2.55   \n",
       "6339566                1             1          0.0           0.00   \n",
       "\n",
       "         trip_durtation  \n",
       "0              4.800000  \n",
       "1              7.416667  \n",
       "2              6.183333  \n",
       "3              4.850000  \n",
       "4              2.300000  \n",
       "...                 ...  \n",
       "6339555       14.800000  \n",
       "6339561       21.500000  \n",
       "6339563       19.000000  \n",
       "6339564       16.283333  \n",
       "6339566        1.066667  \n",
       "\n",
       "[2780283 rows x 5 columns]"
      ]
     },
     "execution_count": 27,
     "metadata": {},
     "output_type": "execute_result"
    }
   ],
   "source": [
    "df = df[df['payment_type'].isin([1,2])] #Selecting data as per problem statement\n",
    "df = df[df['passenger_count'].isin([1,2,3,4,5])] #Selecting data as per problem statement\n",
    "df"
   ]
  },
  {
   "cell_type": "code",
   "execution_count": 28,
   "id": "91dae20a-b8c5-40e7-95dd-1a970c0ea087",
   "metadata": {
    "scrolled": true
   },
   "outputs": [
    {
     "data": {
      "text/plain": [
       "payment_type\n",
       "1    1907801\n",
       "2     872482\n",
       "Name: count, dtype: int64"
      ]
     },
     "execution_count": 28,
     "metadata": {},
     "output_type": "execute_result"
    }
   ],
   "source": [
    "df['payment_type'].value_counts()\n",
    "#1-credit card\n",
    "#2-Cash"
   ]
  },
  {
   "cell_type": "code",
   "execution_count": 29,
   "id": "75e2db8d-bdd3-4bc5-bd93-b6da3bc48c2f",
   "metadata": {},
   "outputs": [],
   "source": [
    "#Creating function to replacing 1 with \"Card\" & 2 with \"Cash\"\n",
    "def chang(x): \n",
    "    if x ==1:\n",
    "        return 'Card'\n",
    "    else:\n",
    "        return 'Cash'"
   ]
  },
  {
   "cell_type": "code",
   "execution_count": 30,
   "id": "8adcc1b5-1aef-4407-a2b1-c520cd3fad7b",
   "metadata": {},
   "outputs": [],
   "source": [
    "df['payment_type'] = df['payment_type'].apply(chang) #Replacing Values in payment_type columns"
   ]
  },
  {
   "cell_type": "code",
   "execution_count": 31,
   "id": "a08700ae-b171-4ec0-9b50-ac8b1252e79c",
   "metadata": {},
   "outputs": [
    {
     "data": {
      "text/html": [
       "<div>\n",
       "<style scoped>\n",
       "    .dataframe tbody tr th:only-of-type {\n",
       "        vertical-align: middle;\n",
       "    }\n",
       "\n",
       "    .dataframe tbody tr th {\n",
       "        vertical-align: top;\n",
       "    }\n",
       "\n",
       "    .dataframe thead th {\n",
       "        text-align: right;\n",
       "    }\n",
       "</style>\n",
       "<table border=\"1\" class=\"dataframe\">\n",
       "  <thead>\n",
       "    <tr style=\"text-align: right;\">\n",
       "      <th></th>\n",
       "      <th>passenger_count</th>\n",
       "      <th>payment_type</th>\n",
       "      <th>fare_amount</th>\n",
       "      <th>trip_distance</th>\n",
       "      <th>trip_durtation</th>\n",
       "    </tr>\n",
       "  </thead>\n",
       "  <tbody>\n",
       "    <tr>\n",
       "      <th>2518400</th>\n",
       "      <td>1</td>\n",
       "      <td>Card</td>\n",
       "      <td>26.5</td>\n",
       "      <td>8.73</td>\n",
       "      <td>25.433333</td>\n",
       "    </tr>\n",
       "    <tr>\n",
       "      <th>3641180</th>\n",
       "      <td>1</td>\n",
       "      <td>Card</td>\n",
       "      <td>10.5</td>\n",
       "      <td>2.39</td>\n",
       "      <td>10.766667</td>\n",
       "    </tr>\n",
       "    <tr>\n",
       "      <th>2490840</th>\n",
       "      <td>1</td>\n",
       "      <td>Card</td>\n",
       "      <td>15.5</td>\n",
       "      <td>3.81</td>\n",
       "      <td>19.283333</td>\n",
       "    </tr>\n",
       "    <tr>\n",
       "      <th>4358717</th>\n",
       "      <td>1</td>\n",
       "      <td>Card</td>\n",
       "      <td>14.5</td>\n",
       "      <td>2.76</td>\n",
       "      <td>20.133333</td>\n",
       "    </tr>\n",
       "    <tr>\n",
       "      <th>416256</th>\n",
       "      <td>1</td>\n",
       "      <td>Cash</td>\n",
       "      <td>34.5</td>\n",
       "      <td>10.70</td>\n",
       "      <td>37.233333</td>\n",
       "    </tr>\n",
       "    <tr>\n",
       "      <th>1615897</th>\n",
       "      <td>1</td>\n",
       "      <td>Card</td>\n",
       "      <td>9.5</td>\n",
       "      <td>1.32</td>\n",
       "      <td>13.683333</td>\n",
       "    </tr>\n",
       "    <tr>\n",
       "      <th>4612199</th>\n",
       "      <td>1</td>\n",
       "      <td>Card</td>\n",
       "      <td>13.0</td>\n",
       "      <td>3.78</td>\n",
       "      <td>13.500000</td>\n",
       "    </tr>\n",
       "    <tr>\n",
       "      <th>2118602</th>\n",
       "      <td>2</td>\n",
       "      <td>Card</td>\n",
       "      <td>6.0</td>\n",
       "      <td>1.07</td>\n",
       "      <td>5.200000</td>\n",
       "    </tr>\n",
       "  </tbody>\n",
       "</table>\n",
       "</div>"
      ],
      "text/plain": [
       "         passenger_count payment_type  fare_amount  trip_distance  \\\n",
       "2518400                1         Card         26.5           8.73   \n",
       "3641180                1         Card         10.5           2.39   \n",
       "2490840                1         Card         15.5           3.81   \n",
       "4358717                1         Card         14.5           2.76   \n",
       "416256                 1         Cash         34.5          10.70   \n",
       "1615897                1         Card          9.5           1.32   \n",
       "4612199                1         Card         13.0           3.78   \n",
       "2118602                2         Card          6.0           1.07   \n",
       "\n",
       "         trip_durtation  \n",
       "2518400       25.433333  \n",
       "3641180       10.766667  \n",
       "2490840       19.283333  \n",
       "4358717       20.133333  \n",
       "416256        37.233333  \n",
       "1615897       13.683333  \n",
       "4612199       13.500000  \n",
       "2118602        5.200000  "
      ]
     },
     "execution_count": 31,
     "metadata": {},
     "output_type": "execute_result"
    }
   ],
   "source": [
    "df.sample(8) #Show 8 random samples"
   ]
  },
  {
   "cell_type": "code",
   "execution_count": 32,
   "id": "09e5abd5-6d9a-4b61-a885-c9985c567615",
   "metadata": {
    "scrolled": true
   },
   "outputs": [
    {
     "data": {
      "text/html": [
       "<div>\n",
       "<style scoped>\n",
       "    .dataframe tbody tr th:only-of-type {\n",
       "        vertical-align: middle;\n",
       "    }\n",
       "\n",
       "    .dataframe tbody tr th {\n",
       "        vertical-align: top;\n",
       "    }\n",
       "\n",
       "    .dataframe thead th {\n",
       "        text-align: right;\n",
       "    }\n",
       "</style>\n",
       "<table border=\"1\" class=\"dataframe\">\n",
       "  <thead>\n",
       "    <tr style=\"text-align: right;\">\n",
       "      <th></th>\n",
       "      <th>passenger_count</th>\n",
       "      <th>fare_amount</th>\n",
       "      <th>trip_distance</th>\n",
       "      <th>trip_durtation</th>\n",
       "    </tr>\n",
       "  </thead>\n",
       "  <tbody>\n",
       "    <tr>\n",
       "      <th>count</th>\n",
       "      <td>2.780283e+06</td>\n",
       "      <td>2.780283e+06</td>\n",
       "      <td>2.780283e+06</td>\n",
       "      <td>2.780283e+06</td>\n",
       "    </tr>\n",
       "    <tr>\n",
       "      <th>mean</th>\n",
       "      <td>1.733386e+00</td>\n",
       "      <td>1.780567e+01</td>\n",
       "      <td>4.536729e+00</td>\n",
       "      <td>2.415478e+01</td>\n",
       "    </tr>\n",
       "    <tr>\n",
       "      <th>std</th>\n",
       "      <td>1.176652e+00</td>\n",
       "      <td>1.506997e+01</td>\n",
       "      <td>4.895890e+00</td>\n",
       "      <td>9.260031e+01</td>\n",
       "    </tr>\n",
       "    <tr>\n",
       "      <th>min</th>\n",
       "      <td>1.000000e+00</td>\n",
       "      <td>-5.000000e+02</td>\n",
       "      <td>-2.218000e+01</td>\n",
       "      <td>-2.770367e+03</td>\n",
       "    </tr>\n",
       "    <tr>\n",
       "      <th>25%</th>\n",
       "      <td>1.000000e+00</td>\n",
       "      <td>9.000000e+00</td>\n",
       "      <td>1.500000e+00</td>\n",
       "      <td>9.883333e+00</td>\n",
       "    </tr>\n",
       "    <tr>\n",
       "      <th>50%</th>\n",
       "      <td>1.000000e+00</td>\n",
       "      <td>1.300000e+01</td>\n",
       "      <td>2.730000e+00</td>\n",
       "      <td>1.573333e+01</td>\n",
       "    </tr>\n",
       "    <tr>\n",
       "      <th>75%</th>\n",
       "      <td>2.000000e+00</td>\n",
       "      <td>2.100000e+01</td>\n",
       "      <td>5.470000e+00</td>\n",
       "      <td>2.336667e+01</td>\n",
       "    </tr>\n",
       "    <tr>\n",
       "      <th>max</th>\n",
       "      <td>5.000000e+00</td>\n",
       "      <td>4.265000e+03</td>\n",
       "      <td>2.628800e+02</td>\n",
       "      <td>8.525117e+03</td>\n",
       "    </tr>\n",
       "  </tbody>\n",
       "</table>\n",
       "</div>"
      ],
      "text/plain": [
       "       passenger_count   fare_amount  trip_distance  trip_durtation\n",
       "count     2.780283e+06  2.780283e+06   2.780283e+06    2.780283e+06\n",
       "mean      1.733386e+00  1.780567e+01   4.536729e+00    2.415478e+01\n",
       "std       1.176652e+00  1.506997e+01   4.895890e+00    9.260031e+01\n",
       "min       1.000000e+00 -5.000000e+02  -2.218000e+01   -2.770367e+03\n",
       "25%       1.000000e+00  9.000000e+00   1.500000e+00    9.883333e+00\n",
       "50%       1.000000e+00  1.300000e+01   2.730000e+00    1.573333e+01\n",
       "75%       2.000000e+00  2.100000e+01   5.470000e+00    2.336667e+01\n",
       "max       5.000000e+00  4.265000e+03   2.628800e+02    8.525117e+03"
      ]
     },
     "execution_count": 32,
     "metadata": {},
     "output_type": "execute_result"
    }
   ],
   "source": [
    "df.describe() #Shows descriptive values"
   ]
  },
  {
   "cell_type": "markdown",
   "id": "73328597-dfc3-4be8-a1ee-a4b29aa6a888",
   "metadata": {},
   "source": [
    "#### \"fare_amount\", \"trip_distance\" & \"trip_durtation\" can not be negative & columns are having outliers"
   ]
  },
  {
   "cell_type": "code",
   "execution_count": 33,
   "id": "bfe051ed-715f-4d52-8b66-fdb325cef622",
   "metadata": {},
   "outputs": [],
   "source": [
    "df = df[df['fare_amount']>0] #Removing negative values\n",
    "df = df[df['trip_distance']>0] #Removing negative values\n",
    "df = df[df['trip_durtation']>0] #Removing negative values"
   ]
  },
  {
   "cell_type": "code",
   "execution_count": 34,
   "id": "a0b68b99-9eda-4d50-9090-b14e022b3e67",
   "metadata": {},
   "outputs": [
    {
     "data": {
      "text/html": [
       "<div>\n",
       "<style scoped>\n",
       "    .dataframe tbody tr th:only-of-type {\n",
       "        vertical-align: middle;\n",
       "    }\n",
       "\n",
       "    .dataframe tbody tr th {\n",
       "        vertical-align: top;\n",
       "    }\n",
       "\n",
       "    .dataframe thead th {\n",
       "        text-align: right;\n",
       "    }\n",
       "</style>\n",
       "<table border=\"1\" class=\"dataframe\">\n",
       "  <thead>\n",
       "    <tr style=\"text-align: right;\">\n",
       "      <th></th>\n",
       "      <th>passenger_count</th>\n",
       "      <th>fare_amount</th>\n",
       "      <th>trip_distance</th>\n",
       "      <th>trip_durtation</th>\n",
       "    </tr>\n",
       "  </thead>\n",
       "  <tbody>\n",
       "    <tr>\n",
       "      <th>count</th>\n",
       "      <td>2.748932e+06</td>\n",
       "      <td>2.748932e+06</td>\n",
       "      <td>2.748932e+06</td>\n",
       "      <td>2.748932e+06</td>\n",
       "    </tr>\n",
       "    <tr>\n",
       "      <th>mean</th>\n",
       "      <td>1.738151e+00</td>\n",
       "      <td>1.766835e+01</td>\n",
       "      <td>4.583313e+00</td>\n",
       "      <td>2.418261e+01</td>\n",
       "    </tr>\n",
       "    <tr>\n",
       "      <th>std</th>\n",
       "      <td>1.179440e+00</td>\n",
       "      <td>1.447531e+01</td>\n",
       "      <td>4.897806e+00</td>\n",
       "      <td>9.272285e+01</td>\n",
       "    </tr>\n",
       "    <tr>\n",
       "      <th>min</th>\n",
       "      <td>1.000000e+00</td>\n",
       "      <td>1.000000e-02</td>\n",
       "      <td>1.000000e-02</td>\n",
       "      <td>1.666667e-02</td>\n",
       "    </tr>\n",
       "    <tr>\n",
       "      <th>25%</th>\n",
       "      <td>1.000000e+00</td>\n",
       "      <td>9.000000e+00</td>\n",
       "      <td>1.530000e+00</td>\n",
       "      <td>9.950000e+00</td>\n",
       "    </tr>\n",
       "    <tr>\n",
       "      <th>50%</th>\n",
       "      <td>1.000000e+00</td>\n",
       "      <td>1.300000e+01</td>\n",
       "      <td>2.770000e+00</td>\n",
       "      <td>1.575000e+01</td>\n",
       "    </tr>\n",
       "    <tr>\n",
       "      <th>75%</th>\n",
       "      <td>2.000000e+00</td>\n",
       "      <td>2.100000e+01</td>\n",
       "      <td>5.500000e+00</td>\n",
       "      <td>2.333333e+01</td>\n",
       "    </tr>\n",
       "    <tr>\n",
       "      <th>max</th>\n",
       "      <td>5.000000e+00</td>\n",
       "      <td>4.265000e+03</td>\n",
       "      <td>2.628800e+02</td>\n",
       "      <td>8.525117e+03</td>\n",
       "    </tr>\n",
       "  </tbody>\n",
       "</table>\n",
       "</div>"
      ],
      "text/plain": [
       "       passenger_count   fare_amount  trip_distance  trip_durtation\n",
       "count     2.748932e+06  2.748932e+06   2.748932e+06    2.748932e+06\n",
       "mean      1.738151e+00  1.766835e+01   4.583313e+00    2.418261e+01\n",
       "std       1.179440e+00  1.447531e+01   4.897806e+00    9.272285e+01\n",
       "min       1.000000e+00  1.000000e-02   1.000000e-02    1.666667e-02\n",
       "25%       1.000000e+00  9.000000e+00   1.530000e+00    9.950000e+00\n",
       "50%       1.000000e+00  1.300000e+01   2.770000e+00    1.575000e+01\n",
       "75%       2.000000e+00  2.100000e+01   5.500000e+00    2.333333e+01\n",
       "max       5.000000e+00  4.265000e+03   2.628800e+02    8.525117e+03"
      ]
     },
     "execution_count": 34,
     "metadata": {},
     "output_type": "execute_result"
    }
   ],
   "source": [
    "df.describe()"
   ]
  },
  {
   "cell_type": "code",
   "execution_count": 35,
   "id": "85fbff6c-502e-4bb1-88c9-2eb1fb5e69d6",
   "metadata": {},
   "outputs": [
    {
     "data": {
      "text/plain": [
       "9.0"
      ]
     },
     "execution_count": 35,
     "metadata": {},
     "output_type": "execute_result"
    }
   ],
   "source": [
    "q1 = np.percentile(df['fare_amount'],25)\n",
    "q1"
   ]
  },
  {
   "cell_type": "code",
   "execution_count": 36,
   "id": "6a921492-0a3a-4b6b-8f9d-158b32a903e6",
   "metadata": {
    "scrolled": true
   },
   "outputs": [
    {
     "data": {
      "image/png": "[encoded data removed]",
      "text/plain": [
       "<Figure size 640x480 with 1 Axes>"
      ]
     },
     "metadata": {},
     "output_type": "display_data"
    }
   ],
   "source": [
    "sns.boxplot(df['fare_amount'], color='#1D3557') #Checking Outliers\n",
    "plt.show()"
   ]
  },
  {
   "cell_type": "code",
   "execution_count": 37,
   "id": "fbe0c420-ea23-49e9-90d5-d283d15a147b",
   "metadata": {},
   "outputs": [
    {
     "data": {
      "image/png": "[encoded data removed]",
      "text/plain": [
       "<Figure size 640x480 with 1 Axes>"
      ]
     },
     "metadata": {},
     "output_type": "display_data"
    }
   ],
   "source": [
    "sns.boxplot(df['trip_distance'], color='#1D3557') #Checking Outliers\n",
    "plt.show()"
   ]
  },
  {
   "cell_type": "code",
   "execution_count": 38,
   "id": "73e9d814-536c-42d3-940c-5e986f1bd8b8",
   "metadata": {
    "scrolled": true
   },
   "outputs": [
    {
     "data": {
      "image/png": "[encoded data removed]",
      "text/plain": [
       "<Figure size 640x480 with 1 Axes>"
      ]
     },
     "metadata": {},
     "output_type": "display_data"
    }
   ],
   "source": [
    "sns.boxplot(df['trip_durtation'],color='#1D3557')#Checking Outliers\n",
    "plt.show()"
   ]
  },
  {
   "cell_type": "markdown",
   "id": "de46778a-8bb9-489a-b02f-5795eb641594",
   "metadata": {},
   "source": [
    "### Removing Outliers"
   ]
  },
  {
   "cell_type": "code",
   "execution_count": 39,
   "id": "6e2795b1-0703-4874-abc8-c1b3b82a046e",
   "metadata": {},
   "outputs": [],
   "source": [
    "#Creating function to remove outliers\n",
    "for i in ['fare_amount','trip_distance','trip_durtation']:\n",
    "    q3 = np.percentile(df[i],75)\n",
    "    q1 = np.percentile(df[i],25)\n",
    "    IQR = q3-q1\n",
    "    upper_bound = q3 + 1.5*IQR\n",
    "    lower_bound = q1 - 1.5*IQR\n",
    "    df = df[(df[i]<=upper_bound) & (df[i]>=lower_bound)]"
   ]
  },
  {
   "cell_type": "code",
   "execution_count": 40,
   "id": "9252ce99-c7c0-47bc-b2cd-7245c88240c5",
   "metadata": {
    "scrolled": true
   },
   "outputs": [
    {
     "data": {
      "text/html": [
       "<div>\n",
       "<style scoped>\n",
       "    .dataframe tbody tr th:only-of-type {\n",
       "        vertical-align: middle;\n",
       "    }\n",
       "\n",
       "    .dataframe tbody tr th {\n",
       "        vertical-align: top;\n",
       "    }\n",
       "\n",
       "    .dataframe thead th {\n",
       "        text-align: right;\n",
       "    }\n",
       "</style>\n",
       "<table border=\"1\" class=\"dataframe\">\n",
       "  <thead>\n",
       "    <tr style=\"text-align: right;\">\n",
       "      <th></th>\n",
       "      <th>passenger_count</th>\n",
       "      <th>fare_amount</th>\n",
       "      <th>trip_distance</th>\n",
       "      <th>trip_durtation</th>\n",
       "    </tr>\n",
       "  </thead>\n",
       "  <tbody>\n",
       "    <tr>\n",
       "      <th>count</th>\n",
       "      <td>2.297908e+06</td>\n",
       "      <td>2.297908e+06</td>\n",
       "      <td>2.297908e+06</td>\n",
       "      <td>2.297908e+06</td>\n",
       "    </tr>\n",
       "    <tr>\n",
       "      <th>mean</th>\n",
       "      <td>1.788903e+00</td>\n",
       "      <td>1.266990e+01</td>\n",
       "      <td>2.864790e+00</td>\n",
       "      <td>1.465181e+01</td>\n",
       "    </tr>\n",
       "    <tr>\n",
       "      <th>std</th>\n",
       "      <td>1.211896e+00</td>\n",
       "      <td>5.807998e+00</td>\n",
       "      <td>1.975755e+00</td>\n",
       "      <td>7.315283e+00</td>\n",
       "    </tr>\n",
       "    <tr>\n",
       "      <th>min</th>\n",
       "      <td>1.000000e+00</td>\n",
       "      <td>1.000000e-02</td>\n",
       "      <td>1.000000e-02</td>\n",
       "      <td>1.666667e-02</td>\n",
       "    </tr>\n",
       "    <tr>\n",
       "      <th>25%</th>\n",
       "      <td>1.000000e+00</td>\n",
       "      <td>8.000000e+00</td>\n",
       "      <td>1.380000e+00</td>\n",
       "      <td>9.050000e+00</td>\n",
       "    </tr>\n",
       "    <tr>\n",
       "      <th>50%</th>\n",
       "      <td>1.000000e+00</td>\n",
       "      <td>1.150000e+01</td>\n",
       "      <td>2.330000e+00</td>\n",
       "      <td>1.391667e+01</td>\n",
       "    </tr>\n",
       "    <tr>\n",
       "      <th>75%</th>\n",
       "      <td>2.000000e+00</td>\n",
       "      <td>1.650000e+01</td>\n",
       "      <td>3.830000e+00</td>\n",
       "      <td>1.946667e+01</td>\n",
       "    </tr>\n",
       "    <tr>\n",
       "      <th>max</th>\n",
       "      <td>5.000000e+00</td>\n",
       "      <td>3.900000e+01</td>\n",
       "      <td>8.970000e+00</td>\n",
       "      <td>3.598333e+01</td>\n",
       "    </tr>\n",
       "  </tbody>\n",
       "</table>\n",
       "</div>"
      ],
      "text/plain": [
       "       passenger_count   fare_amount  trip_distance  trip_durtation\n",
       "count     2.297908e+06  2.297908e+06   2.297908e+06    2.297908e+06\n",
       "mean      1.788903e+00  1.266990e+01   2.864790e+00    1.465181e+01\n",
       "std       1.211896e+00  5.807998e+00   1.975755e+00    7.315283e+00\n",
       "min       1.000000e+00  1.000000e-02   1.000000e-02    1.666667e-02\n",
       "25%       1.000000e+00  8.000000e+00   1.380000e+00    9.050000e+00\n",
       "50%       1.000000e+00  1.150000e+01   2.330000e+00    1.391667e+01\n",
       "75%       2.000000e+00  1.650000e+01   3.830000e+00    1.946667e+01\n",
       "max       5.000000e+00  3.900000e+01   8.970000e+00    3.598333e+01"
      ]
     },
     "execution_count": 40,
     "metadata": {},
     "output_type": "execute_result"
    }
   ],
   "source": [
    "df.describe()"
   ]
  },
  {
   "cell_type": "code",
   "execution_count": 64,
   "id": "9985cebd-561d-40f5-908e-943b4d43e56b",
   "metadata": {},
   "outputs": [
    {
     "data": {
      "text/html": [
       "<div>\n",
       "<style scoped>\n",
       "    .dataframe tbody tr th:only-of-type {\n",
       "        vertical-align: middle;\n",
       "    }\n",
       "\n",
       "    .dataframe tbody tr th {\n",
       "        vertical-align: top;\n",
       "    }\n",
       "\n",
       "    .dataframe thead th {\n",
       "        text-align: right;\n",
       "    }\n",
       "</style>\n",
       "<table border=\"1\" class=\"dataframe\">\n",
       "  <thead>\n",
       "    <tr style=\"text-align: right;\">\n",
       "      <th></th>\n",
       "      <th>passenger_count</th>\n",
       "      <th>payment_type</th>\n",
       "      <th>fare_amount</th>\n",
       "      <th>trip_distance</th>\n",
       "      <th>trip_durtation</th>\n",
       "    </tr>\n",
       "  </thead>\n",
       "  <tbody>\n",
       "    <tr>\n",
       "      <th>0</th>\n",
       "      <td>1</td>\n",
       "      <td>Card</td>\n",
       "      <td>6.0</td>\n",
       "      <td>1.20</td>\n",
       "      <td>4.800000</td>\n",
       "    </tr>\n",
       "    <tr>\n",
       "      <th>1</th>\n",
       "      <td>1</td>\n",
       "      <td>Card</td>\n",
       "      <td>7.0</td>\n",
       "      <td>1.20</td>\n",
       "      <td>7.416667</td>\n",
       "    </tr>\n",
       "    <tr>\n",
       "      <th>2</th>\n",
       "      <td>1</td>\n",
       "      <td>Card</td>\n",
       "      <td>6.0</td>\n",
       "      <td>0.60</td>\n",
       "      <td>6.183333</td>\n",
       "    </tr>\n",
       "    <tr>\n",
       "      <th>3</th>\n",
       "      <td>1</td>\n",
       "      <td>Card</td>\n",
       "      <td>5.5</td>\n",
       "      <td>0.80</td>\n",
       "      <td>4.850000</td>\n",
       "    </tr>\n",
       "    <tr>\n",
       "      <th>5</th>\n",
       "      <td>1</td>\n",
       "      <td>Cash</td>\n",
       "      <td>2.5</td>\n",
       "      <td>0.03</td>\n",
       "      <td>0.883333</td>\n",
       "    </tr>\n",
       "    <tr>\n",
       "      <th>...</th>\n",
       "      <td>...</td>\n",
       "      <td>...</td>\n",
       "      <td>...</td>\n",
       "      <td>...</td>\n",
       "      <td>...</td>\n",
       "    </tr>\n",
       "    <tr>\n",
       "      <th>6339550</th>\n",
       "      <td>4</td>\n",
       "      <td>Card</td>\n",
       "      <td>10.5</td>\n",
       "      <td>2.40</td>\n",
       "      <td>12.383333</td>\n",
       "    </tr>\n",
       "    <tr>\n",
       "      <th>6339555</th>\n",
       "      <td>3</td>\n",
       "      <td>Card</td>\n",
       "      <td>10.0</td>\n",
       "      <td>2.09</td>\n",
       "      <td>14.800000</td>\n",
       "    </tr>\n",
       "    <tr>\n",
       "      <th>6339561</th>\n",
       "      <td>1</td>\n",
       "      <td>Card</td>\n",
       "      <td>17.5</td>\n",
       "      <td>4.11</td>\n",
       "      <td>21.500000</td>\n",
       "    </tr>\n",
       "    <tr>\n",
       "      <th>6339563</th>\n",
       "      <td>1</td>\n",
       "      <td>Card</td>\n",
       "      <td>13.0</td>\n",
       "      <td>2.13</td>\n",
       "      <td>19.000000</td>\n",
       "    </tr>\n",
       "    <tr>\n",
       "      <th>6339564</th>\n",
       "      <td>1</td>\n",
       "      <td>Card</td>\n",
       "      <td>12.5</td>\n",
       "      <td>2.55</td>\n",
       "      <td>16.283333</td>\n",
       "    </tr>\n",
       "  </tbody>\n",
       "</table>\n",
       "<p>2297908 rows × 5 columns</p>\n",
       "</div>"
      ],
      "text/plain": [
       "         passenger_count payment_type  fare_amount  trip_distance  \\\n",
       "0                      1         Card          6.0           1.20   \n",
       "1                      1         Card          7.0           1.20   \n",
       "2                      1         Card          6.0           0.60   \n",
       "3                      1         Card          5.5           0.80   \n",
       "5                      1         Cash          2.5           0.03   \n",
       "...                  ...          ...          ...            ...   \n",
       "6339550                4         Card         10.5           2.40   \n",
       "6339555                3         Card         10.0           2.09   \n",
       "6339561                1         Card         17.5           4.11   \n",
       "6339563                1         Card         13.0           2.13   \n",
       "6339564                1         Card         12.5           2.55   \n",
       "\n",
       "         trip_durtation  \n",
       "0              4.800000  \n",
       "1              7.416667  \n",
       "2              6.183333  \n",
       "3              4.850000  \n",
       "5              0.883333  \n",
       "...                 ...  \n",
       "6339550       12.383333  \n",
       "6339555       14.800000  \n",
       "6339561       21.500000  \n",
       "6339563       19.000000  \n",
       "6339564       16.283333  \n",
       "\n",
       "[2297908 rows x 5 columns]"
      ]
     },
     "execution_count": 64,
     "metadata": {},
     "output_type": "execute_result"
    }
   ],
   "source": [
    "df"
   ]
  },
  {
   "cell_type": "code",
   "execution_count": 115,
   "id": "01666685-9cfc-4c67-bfff-2a735bc81d5b",
   "metadata": {
    "scrolled": true
   },
   "outputs": [
    {
     "data": {
      "image/png": "[encoded data removed]",
      "text/plain": [
       "<Figure size 1400x600 with 2 Axes>"
      ]
     },
     "metadata": {},
     "output_type": "display_data"
    }
   ],
   "source": [
    "\r\n",
    "# Set up the figure with two columns\r\n",
    "fig, axes = plt.subplots(1, 2, figsize=(14, 6))  # 1 row, 2 columns\r\n",
    "\r\n",
    "# Plot the first histogram in the first column\r\n",
    "sns.histplot(data=df, x='fare_amount', hue='payment_type', bins=20, ax=axes[0])\r\n",
    "axes[0].set_title('Fare Amount Vs Count of Payment Types')\r\n",
    "axes[0].set_xlabel('Fare Amount')\r\n",
    "axes[0].set_ylabel('Count of Payment Type')\r\n",
    "\r\n",
    "# Plot the second histogram in the second column\r\n",
    "sns.histplot(data=df, x='trip_distance', hue='payment_type', bins=20, ax=axes[1])\r\n",
    "axes[1].set_title('Trip Distance Vs Count of Payment Types')\r\n",
    "axes[1].set_xlabel('Trip Distance')\r\n",
    "axes[1].set_ylabel('Count of Payment Type')\r\n",
    "\r\n",
    "# Display the plots\r\n",
    "plt.tight_layout()\r\n",
    "plt.show()\r\n"
   ]
  },
  {
   "cell_type": "markdown",
   "id": "aeb8e59b-57c8-44f0-836f-d5e6e5b691fb",
   "metadata": {},
   "source": [
    "#### custmers are more likely to pay by card as compare to cash\n",
    "#### Customers are more likely to pay card than cash as distance is increasing"
   ]
  },
  {
   "cell_type": "code",
   "execution_count": 117,
   "id": "2c558698-bad6-49f3-8f1a-338ef1650e4c",
   "metadata": {},
   "outputs": [
    {
     "data": {
      "text/html": [
       "<div>\n",
       "<style scoped>\n",
       "    .dataframe tbody tr th:only-of-type {\n",
       "        vertical-align: middle;\n",
       "    }\n",
       "\n",
       "    .dataframe tbody tr th {\n",
       "        vertical-align: top;\n",
       "    }\n",
       "\n",
       "    .dataframe thead tr th {\n",
       "        text-align: left;\n",
       "    }\n",
       "\n",
       "    .dataframe thead tr:last-of-type th {\n",
       "        text-align: right;\n",
       "    }\n",
       "</style>\n",
       "<table border=\"1\" class=\"dataframe\">\n",
       "  <thead>\n",
       "    <tr>\n",
       "      <th></th>\n",
       "      <th colspan=\"2\" halign=\"left\">fare_amount</th>\n",
       "      <th colspan=\"2\" halign=\"left\">trip_distance</th>\n",
       "    </tr>\n",
       "    <tr>\n",
       "      <th></th>\n",
       "      <th>mean</th>\n",
       "      <th>std</th>\n",
       "      <th>mean</th>\n",
       "      <th>std</th>\n",
       "    </tr>\n",
       "    <tr>\n",
       "      <th>payment_type</th>\n",
       "      <th></th>\n",
       "      <th></th>\n",
       "      <th></th>\n",
       "      <th></th>\n",
       "    </tr>\n",
       "  </thead>\n",
       "  <tbody>\n",
       "    <tr>\n",
       "      <th>Card</th>\n",
       "      <td>13.112493</td>\n",
       "      <td>5.849281</td>\n",
       "      <td>2.992237</td>\n",
       "      <td>1.99274</td>\n",
       "    </tr>\n",
       "    <tr>\n",
       "      <th>Cash</th>\n",
       "      <td>11.758005</td>\n",
       "      <td>5.613038</td>\n",
       "      <td>2.602207</td>\n",
       "      <td>1.91372</td>\n",
       "    </tr>\n",
       "  </tbody>\n",
       "</table>\n",
       "</div>"
      ],
      "text/plain": [
       "             fare_amount           trip_distance         \n",
       "                    mean       std          mean      std\n",
       "payment_type                                             \n",
       "Card           13.112493  5.849281      2.992237  1.99274\n",
       "Cash           11.758005  5.613038      2.602207  1.91372"
      ]
     },
     "execution_count": 117,
     "metadata": {},
     "output_type": "execute_result"
    }
   ],
   "source": [
    "#Checking mean and standard deviation to Card and Cash payment\n",
    "df.groupby('payment_type')[['fare_amount','trip_distance']].agg(['mean', 'std'])"
   ]
  },
  {
   "cell_type": "code",
   "execution_count": 118,
   "id": "97cc544a-25b8-4738-8656-5af0c7e99e86",
   "metadata": {},
   "outputs": [
    {
     "data": {
      "text/plain": [
       "payment_type\n",
       "Card    1547039\n",
       "Cash     750869\n",
       "Name: count, dtype: int64"
      ]
     },
     "execution_count": 118,
     "metadata": {},
     "output_type": "execute_result"
    }
   ],
   "source": [
    "r5 = df['payment_type'].value_counts() #Shows count of values\n",
    "r5"
   ]
  },
  {
   "cell_type": "markdown",
   "id": "5a0b60b3-070a-45fe-b4b5-c1a454ee2529",
   "metadata": {},
   "source": [
    "### Creating Pie Chart"
   ]
  },
  {
   "cell_type": "code",
   "execution_count": 119,
   "id": "b4fb1dd3-dfe9-4313-8d33-e99977230f6f",
   "metadata": {},
   "outputs": [
    {
     "data": {
      "image/png": "[encoded data removed]",
      "text/plain": [
       "<Figure size 640x480 with 1 Axes>"
      ]
     },
     "metadata": {},
     "output_type": "display_data"
    }
   ],
   "source": [
    "plt.pie(r5.values,autopct='%.2f%%', labels = r5.index, shadow=True, colors = ['#3F87FA','#ABDBFF'], startangle=90) #Creating Pie chart\n",
    "plt.title('Percentage Of Payment typs') #Shows titile of the graph\n",
    "plt.legend() #Shows label of the graph\n",
    "plt.show()"
   ]
  },
  {
   "cell_type": "markdown",
   "id": "5b370b12-9cab-4274-b6cc-7223cdc078e1",
   "metadata": {},
   "source": [
    "#### Percentage of card payment is more that cash payment"
   ]
  },
  {
   "cell_type": "code",
   "execution_count": 143,
   "id": "1ba925e8-7c4c-48f5-84dd-b5aafaeec212",
   "metadata": {
    "scrolled": true
   },
   "outputs": [
    {
     "data": {
      "text/html": [
       "<div>\n",
       "<style scoped>\n",
       "    .dataframe tbody tr th:only-of-type {\n",
       "        vertical-align: middle;\n",
       "    }\n",
       "\n",
       "    .dataframe tbody tr th {\n",
       "        vertical-align: top;\n",
       "    }\n",
       "\n",
       "    .dataframe thead th {\n",
       "        text-align: right;\n",
       "    }\n",
       "</style>\n",
       "<table border=\"1\" class=\"dataframe\">\n",
       "  <thead>\n",
       "    <tr style=\"text-align: right;\">\n",
       "      <th></th>\n",
       "      <th>payment_type</th>\n",
       "      <th>passenger_count</th>\n",
       "      <th>count</th>\n",
       "    </tr>\n",
       "  </thead>\n",
       "  <tbody>\n",
       "    <tr>\n",
       "      <th>0</th>\n",
       "      <td>Card</td>\n",
       "      <td>1</td>\n",
       "      <td>909245</td>\n",
       "    </tr>\n",
       "    <tr>\n",
       "      <th>1</th>\n",
       "      <td>Card</td>\n",
       "      <td>2</td>\n",
       "      <td>327661</td>\n",
       "    </tr>\n",
       "    <tr>\n",
       "      <th>2</th>\n",
       "      <td>Card</td>\n",
       "      <td>3</td>\n",
       "      <td>122412</td>\n",
       "    </tr>\n",
       "    <tr>\n",
       "      <th>3</th>\n",
       "      <td>Card</td>\n",
       "      <td>4</td>\n",
       "      <td>63676</td>\n",
       "    </tr>\n",
       "    <tr>\n",
       "      <th>4</th>\n",
       "      <td>Card</td>\n",
       "      <td>5</td>\n",
       "      <td>124045</td>\n",
       "    </tr>\n",
       "    <tr>\n",
       "      <th>5</th>\n",
       "      <td>Cash</td>\n",
       "      <td>1</td>\n",
       "      <td>460550</td>\n",
       "    </tr>\n",
       "    <tr>\n",
       "      <th>6</th>\n",
       "      <td>Cash</td>\n",
       "      <td>2</td>\n",
       "      <td>155472</td>\n",
       "    </tr>\n",
       "    <tr>\n",
       "      <th>7</th>\n",
       "      <td>Cash</td>\n",
       "      <td>3</td>\n",
       "      <td>54506</td>\n",
       "    </tr>\n",
       "    <tr>\n",
       "      <th>8</th>\n",
       "      <td>Cash</td>\n",
       "      <td>4</td>\n",
       "      <td>32715</td>\n",
       "    </tr>\n",
       "    <tr>\n",
       "      <th>9</th>\n",
       "      <td>Cash</td>\n",
       "      <td>5</td>\n",
       "      <td>47626</td>\n",
       "    </tr>\n",
       "  </tbody>\n",
       "</table>\n",
       "</div>"
      ],
      "text/plain": [
       "  payment_type  passenger_count   count\n",
       "0         Card                1  909245\n",
       "1         Card                2  327661\n",
       "2         Card                3  122412\n",
       "3         Card                4   63676\n",
       "4         Card                5  124045\n",
       "5         Cash                1  460550\n",
       "6         Cash                2  155472\n",
       "7         Cash                3   54506\n",
       "8         Cash                4   32715\n",
       "9         Cash                5   47626"
      ]
     },
     "execution_count": 143,
     "metadata": {},
     "output_type": "execute_result"
    }
   ],
   "source": [
    "r6 = df.groupby(['payment_type','passenger_count'])[['passenger_count']].count()\n",
    "r6.rename(columns={'passenger_count':'count'}, inplace=True)\n",
    "r6.reset_index(inplace=True)\n",
    "r6"
   ]
  },
  {
   "cell_type": "code",
   "execution_count": 162,
   "id": "6c0db359-5897-46ae-9f67-8fb62f8ce29b",
   "metadata": {},
   "outputs": [
    {
     "data": {
      "image/png": "[encoded data removed]",
      "text/plain": [
       "<Figure size 640x480 with 1 Axes>"
      ]
     },
     "metadata": {},
     "output_type": "display_data"
    }
   ],
   "source": [
    "sns.barplot(data=r6, x='payment_type', y='count', hue='passenger_count', palette='Set2')\n",
    "plt.show()\n"
   ]
  },
  {
   "cell_type": "markdown",
   "id": "3cf85aa8-a9c8-44ce-842a-4b3fb49946a3",
   "metadata": {},
   "source": [
    "#### In passenger count customers perfering paying by card than cash"
   ]
  }
 ],
 "metadata": {
  "kernelspec": {
   "display_name": "Python 3 (ipykernel)",
   "language": "python",
   "name": "python3"
  },
  "language_info": {
   "codemirror_mode": {
    "name": "ipython",
    "version": 3
   },
   "file_extension": ".py",
   "mimetype": "text/x-python",
   "name": "python",
   "nbconvert_exporter": "python",
   "pygments_lexer": "ipython3",
   "version": "3.13.0"
  }
 },
 "nbformat": 4,
 "nbformat_minor": 5
}
